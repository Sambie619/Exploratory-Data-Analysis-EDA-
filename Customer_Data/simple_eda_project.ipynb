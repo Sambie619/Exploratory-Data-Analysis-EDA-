{
 "cells": [
  {
   "cell_type": "markdown",
   "id": "9d3fa8df",
   "metadata": {},
   "source": [
    "# Simple EDA Project\n",
    "This notebook performs Exploratory Data Analysis (EDA) on a sample customer dataset."
   ]
  },
  {
   "cell_type": "code",
   "execution_count": null,
   "id": "7d8f0375",
   "metadata": {},
   "outputs": [],
   "source": [
    "import pandas as pd\n",
    "import matplotlib.pyplot as plt\n",
    "import seaborn as sns\n",
    "\n",
    "# Load dataset\n",
    "df = pd.read_csv('customer_data.csv')\n",
    "df.head()"
   ]
  },
  {
   "cell_type": "markdown",
   "id": "dd65bf3b",
   "metadata": {},
   "source": [
    "## Basic Information"
   ]
  },
  {
   "cell_type": "code",
   "execution_count": null,
   "id": "c1198c1e",
   "metadata": {},
   "outputs": [],
   "source": [
    "df.info()"
   ]
  },
  {
   "cell_type": "code",
   "execution_count": null,
   "id": "ffc69a4c",
   "metadata": {},
   "outputs": [],
   "source": [
    "df.describe()"
   ]
  },
  {
   "cell_type": "markdown",
   "id": "6b119859",
   "metadata": {},
   "source": [
    "## Univariate Analysis"
   ]
  },
  {
   "cell_type": "code",
   "execution_count": null,
   "id": "b5bd6f56",
   "metadata": {},
   "outputs": [],
   "source": [
    "sns.histplot(df['Age'], bins=5, kde=True)\n",
    "plt.title('Age Distribution')\n",
    "plt.show()"
   ]
  },
  {
   "cell_type": "code",
   "execution_count": null,
   "id": "913ed8ca",
   "metadata": {},
   "outputs": [],
   "source": [
    "sns.countplot(x='Gender', data=df)\n",
    "plt.title('Gender Count')\n",
    "plt.show()"
   ]
  },
  {
   "cell_type": "markdown",
   "id": "4841d961",
   "metadata": {},
   "source": [
    "## Bivariate Analysis"
   ]
  },
  {
   "cell_type": "code",
   "execution_count": null,
   "id": "d75164c6",
   "metadata": {},
   "outputs": [],
   "source": [
    "sns.scatterplot(x='Annual_Income', y='Spending_Score', hue='Gender', data=df)\n",
    "plt.title('Income vs Spending Score')\n",
    "plt.show()"
   ]
  },
  {
   "cell_type": "code",
   "execution_count": null,
   "id": "f073a845",
   "metadata": {},
   "outputs": [],
   "source": [
    "sns.boxplot(x='Gender', y='Annual_Income', data=df)\n",
    "plt.title('Income by Gender')\n",
    "plt.show()"
   ]
  },
  {
   "cell_type": "markdown",
   "id": "8199ffd1",
   "metadata": {},
   "source": [
    "## Correlation Heatmap"
   ]
  },
  {
   "cell_type": "code",
   "execution_count": null,
   "id": "70f26fac",
   "metadata": {},
   "outputs": [],
   "source": [
    "sns.heatmap(df.corr(numeric_only=True), annot=True, cmap='coolwarm')\n",
    "plt.title('Correlation Heatmap')\n",
    "plt.show()"
   ]
  }
 ],
 "metadata": {
  "kernelspec": {
   "display_name": "Python 3",
   "language": "python",
   "name": "python3"
  },
  "language_info": {
   "name": "python",
   "version": "3.10"
  }
 },
 "nbformat": 4,
 "nbformat_minor": 5
}
